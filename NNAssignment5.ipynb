{
 "cells": [
  {
   "cell_type": "code",
   "execution_count": 5,
   "metadata": {},
   "outputs": [],
   "source": [
    "#importing required packages\n",
    "from math import exp\n",
    "import csv\n",
    "import matplotlib.pyplot as plt"
   ]
  },
  {
   "cell_type": "code",
   "execution_count": 6,
   "metadata": {},
   "outputs": [],
   "source": [
    "def neural_network(input_val,exp_out,l_rate,network):#forward propagation\n",
    "    z1_temp = network[0][0] * input_val\n",
    "    z2_temp = network[0][1] * input_val\n",
    "    z1 = 1.0/(1.0+exp(-z1_temp))\n",
    "    z2 = 1.0/(1.0+exp(-z2_temp))\n",
    "    y = z1 * network[1][0] + z2 * network[1][1]\n",
    "    #calculating error\n",
    "    exp_list.append(exp_out)\n",
    "    out_list.append(y)\n",
    "    error_y = exp_out - y\n",
    "    error_z1 = error_y * network[1][0]\n",
    "    error_z2 = error_y * network[1][1]\n",
    "    #calculating deltas\n",
    "    delta_1 = -error_y * z1\n",
    "    delta_2 = -error_y * z2\n",
    "    delta_11 = -error_z1 * input_val\n",
    "    delta_12 = -error_z2 * input_val\n",
    "    #updating weights\n",
    "    temp = network\n",
    "    network[0][0] = temp[0][0] - (l_rate)*(delta_11)\n",
    "    network[0][1] = temp[0][1] - (l_rate)*(delta_12)\n",
    "    network[1][0] = temp[1][0] - (l_rate)*(delta_1)\n",
    "    network[1][1] = temp[1][1] - (l_rate)*(delta_2)"
   ]
  },
  {
   "cell_type": "code",
   "execution_count": 19,
   "metadata": {},
   "outputs": [],
   "source": [
    "#establishing network\n",
    "exp_list=list()\n",
    "out_list=list()\n",
    "network = list()\n",
    "hidden_layer = [1,2]\n",
    "output_layer = [3,4]\n",
    "network.append(hidden_layer)\n",
    "network.append(output_layer)"
   ]
  },
  {
   "cell_type": "code",
   "execution_count": 20,
   "metadata": {},
   "outputs": [],
   "source": [
    "#reading the given file and calling the neural network\n",
    "with open('inputHW5.csv') as f:\n",
    "    reader = csv.reader(f)\n",
    "    dataset = list(reader)\n",
    "input_vals=list()\n",
    "output_vals=list()\n",
    "for row in dataset:\n",
    "    input_vals.append(float(row[0]))\n",
    "    output_vals.append(float(row[-1]))\n",
    "for i in range(len(output_vals)):\n",
    "    neural_network(input_vals[i],output_vals[i],0.001,network)#input_value, output_value, learning_rate01"
   ]
  },
  {
   "cell_type": "code",
   "execution_count": 15,
   "metadata": {},
   "outputs": [
    {
     "data": {
      "text/plain": [
       "[[17.26783836888609, 38.41957445474712],\n",
       " [1.9626363415923411, 2.950563658407659]]"
      ]
     },
     "execution_count": 15,
     "metadata": {},
     "output_type": "execute_result"
    }
   ],
   "source": [
    "#network after passing the dataset\n",
    "network"
   ]
  },
  {
   "cell_type": "code",
   "execution_count": 16,
   "metadata": {},
   "outputs": [],
   "source": [
    "#Establishing the Number of inputs\n",
    "axis = [i for i in range (len(input_vals))]"
   ]
  },
  {
   "cell_type": "code",
   "execution_count": 17,
   "metadata": {},
   "outputs": [
    {
     "data": {
      "text/plain": [
       "<matplotlib.legend.Legend at 0x20094ebe898>"
      ]
     },
     "execution_count": 17,
     "metadata": {},
     "output_type": "execute_result"
    },
    {
     "data": {
      "image/png": "[encoded data removed]",
      "text/plain": [
       "<Figure size 432x288 with 1 Axes>"
      ]
     },
     "metadata": {},
     "output_type": "display_data"
    }
   ],
   "source": [
    "plt.plot(exp_list,axis,marker='o', ms=10, label='Expected Values')\n",
    "plt.plot(out_list,axis,marker='X', ms=10, label='Predicted Values')\n",
    "plt.xlabel('Points')\n",
    "plt.ylabel('Axis')\n",
    "plt.legend()"
   ]
  },
  {
   "cell_type": "code",
   "execution_count": 18,
   "metadata": {},
   "outputs": [
    {
     "name": "stdout",
     "output_type": "stream",
     "text": [
      "1.0806244532751452\n"
     ]
    }
   ],
   "source": [
    "#Calculating the accuracy of the prediction\n",
    "from sklearn import metrics\n",
    "print(metrics.mean_squared_error(exp_list,out_list))"
   ]
  },
  {
   "cell_type": "raw",
   "metadata": {},
   "source": [
    "So, we can see that the predictions made using the neural network are very close compared to the original values as the mean squared error is very less. We can say that the accuracy of the neural network is pretty good."
   ]
  },
  {
   "cell_type": "raw",
   "metadata": {},
   "source": [
    "To make the predictions made by the neural network more accurate, we may use many ways:\n",
    "Like varying the learning rate and checking the mean squared error.\n",
    "Adding more neurons in the hidden layer. \n",
    "Using a different activation function."
   ]
  }
 ],
 "metadata": {
  "kernelspec": {
   "display_name": "Python 3",
   "language": "python",
   "name": "python3"
  },
  "language_info": {
   "codemirror_mode": {
    "name": "ipython",
    "version": 3
   },
   "file_extension": ".py",
   "mimetype": "text/x-python",
   "name": "python",
   "nbconvert_exporter": "python",
   "pygments_lexer": "ipython3",
   "version": "3.7.3"
  }
 },
 "nbformat": 4,
 "nbformat_minor": 2
}
